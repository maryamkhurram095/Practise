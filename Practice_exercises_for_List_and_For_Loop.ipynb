{
  "nbformat": 4,
  "nbformat_minor": 0,
  "metadata": {
    "kernelspec": {
      "display_name": "Python 3",
      "language": "python",
      "name": "python3"
    },
    "language_info": {
      "codemirror_mode": {
        "name": "ipython",
        "version": 3
      },
      "file_extension": ".py",
      "mimetype": "text/x-python",
      "name": "python",
      "nbconvert_exporter": "python",
      "pygments_lexer": "ipython3",
      "version": "3.7.6"
    },
    "colab": {
      "name": "Practice exercises for List and For Loop.ipynb",
      "provenance": []
    }
  },
  "cells": [
    {
      "cell_type": "markdown",
      "metadata": {
        "id": "ZJHaeuXUOMf5"
      },
      "source": [
        "# Exercise # 1:\n",
        "Given a Python list you should be able to display Python list in the following order\n",
        "\n",
        "aLsit = [100, 200, 300, 400, 500]\n",
        "\n",
        "Expected output:\n",
        "\n",
        "[500, 400, 300, 200, 100]"
      ]
    },
    {
      "cell_type": "code",
      "metadata": {
        "colab": {
          "base_uri": "https://localhost:8080/"
        },
        "id": "C4UVVBpeOMf5",
        "outputId": "a991014b-66c8-4179-9508-e796822549dd"
      },
      "source": [
        "aList = [100, 200, 300, 400, 500]\n",
        "aList[::-1]"
      ],
      "execution_count": 10,
      "outputs": [
        {
          "output_type": "execute_result",
          "data": {
            "text/plain": [
              "[500, 400, 300, 200, 100]"
            ]
          },
          "metadata": {
            "tags": []
          },
          "execution_count": 10
        }
      ]
    },
    {
      "cell_type": "markdown",
      "metadata": {
        "id": "NvXWRzyNOMf5"
      },
      "source": [
        "# Exercise # 2: \n",
        "\n",
        "Concatenate two lists index-wise\n",
        "\n",
        "list1 = [\"M\", \"na\", \"i\", \"Ke\"] \n",
        "\n",
        "list2 = [\"y\", \"me\", \"s\", \"lly\"]\n",
        "\n",
        "Expected output:\n",
        "\n",
        "['My', 'name', 'is', 'Kelly']"
      ]
    },
    {
      "cell_type": "code",
      "metadata": {
        "colab": {
          "base_uri": "https://localhost:8080/"
        },
        "id": "9n43elDmOMf5",
        "outputId": "7e912573-3a4a-4404-e2c5-571498a8326f"
      },
      "source": [
        "list1 = [\"M\", \"na\", \"i\", \"Ke\"]\n",
        "list2 = [\"y\", \"me\", \"s\", \"lly\"]\n",
        "full_name = [a + b for a, b in zip(list1,list2)]\n",
        "print(full_name)"
      ],
      "execution_count": 11,
      "outputs": [
        {
          "output_type": "stream",
          "text": [
            "['My', 'name', 'is', 'Kelly']\n"
          ],
          "name": "stdout"
        }
      ]
    },
    {
      "cell_type": "markdown",
      "metadata": {
        "id": "B0qJwHROOMf5"
      },
      "source": [
        "# Exercise Question 3: \n",
        "Given a Python list. Turn every item of a list into its square\n",
        "\n",
        "aList = [1, 2, 3, 4, 5, 6, 7]\n",
        "\n",
        "Expected output:\n",
        "\n",
        "[1, 4, 9, 16, 25, 36, 49]"
      ]
    },
    {
      "cell_type": "code",
      "metadata": {
        "colab": {
          "base_uri": "https://localhost:8080/"
        },
        "id": "V1Gvrro7OMf5",
        "outputId": "6c078612-9986-406c-f2a6-ade425cb60e0"
      },
      "source": [
        "aList = [1, 2, 3, 4, 5, 6, 7]\n",
        "for i in range(len(aList)):\n",
        "    aList[i]*=aList[i]\n",
        "aList"
      ],
      "execution_count": 12,
      "outputs": [
        {
          "output_type": "execute_result",
          "data": {
            "text/plain": [
              "[1, 4, 9, 16, 25, 36, 49]"
            ]
          },
          "metadata": {
            "tags": []
          },
          "execution_count": 12
        }
      ]
    },
    {
      "cell_type": "markdown",
      "metadata": {
        "id": "Akfah7S4OMf5"
      },
      "source": [
        "# Exercise # 4: \n",
        "Concatenate two lists in the following order\n",
        "\n",
        "list1 = [\"Hello \", \"take \"]\n",
        "\n",
        "list2 = [\"Dear\", \"Sir\"]\n",
        "\n",
        "Expected output:\n",
        "\n",
        "['Hello Dear', 'Hello Sir', 'take Dear', 'take Sir']"
      ]
    },
    {
      "cell_type": "code",
      "metadata": {
        "colab": {
          "base_uri": "https://localhost:8080/"
        },
        "id": "4kya6okNOMf5",
        "outputId": "8c2893bb-a9f2-486c-ba79-9860dc1cf4dc"
      },
      "source": [
        "list1 = [\"Hello \", \"take \"]\n",
        "list2 = [\"Dear\", \"Sir\"]\n",
        "empty=[]\n",
        "for i in list1:\n",
        "    for x in list2:\n",
        "      empty.append(i+x)\n",
        "print(empty)\n"
      ],
      "execution_count": 5,
      "outputs": [
        {
          "output_type": "stream",
          "text": [
            "['Hello Dear', 'Hello Sir', 'take Dear', 'take Sir']\n"
          ],
          "name": "stdout"
        }
      ]
    },
    {
      "cell_type": "markdown",
      "metadata": {
        "id": "MvPyq5W5OMf5"
      },
      "source": [
        "# Exercise # 5: \n",
        "Given a two Python list. Iterate both lists simultaneously such that list1 should display item in original order and list2 in reverse order\n",
        "\n",
        "list1 = [10, 20, 30, 40]\n",
        "\n",
        "list2 = [100, 200, 300, 400]\n",
        "\n",
        "Expected output:\n",
        "\n",
        "10 400\n",
        "\n",
        "20 300\n",
        "\n",
        "30 200\n",
        "\n",
        "40 100"
      ]
    },
    {
      "cell_type": "code",
      "metadata": {
        "colab": {
          "base_uri": "https://localhost:8080/"
        },
        "id": "St43LLvMOMf6",
        "outputId": "8c08bc72-2acd-4ec3-a501-593eb774738d"
      },
      "source": [
        "list1 = [10, 20, 30, 40]\n",
        "list2 = [100, 200, 300, 400]\n",
        "list2=list2[::-1]\n",
        "for i, x in zip(list1, list2):\n",
        "    print(i,x)"
      ],
      "execution_count": 13,
      "outputs": [
        {
          "output_type": "stream",
          "text": [
            "10 400\n",
            "20 300\n",
            "30 200\n",
            "40 100\n"
          ],
          "name": "stdout"
        }
      ]
    },
    {
      "cell_type": "markdown",
      "metadata": {
        "id": "zwWdXLbpOMf6"
      },
      "source": [
        "# Exercise # 6 :\n",
        "Remove empty strings from the list of strings\n",
        "\n",
        "list1 = [\"Mike\", \"\", \"Emma\", \"Kelly\", \"\", \"Brad\"]\n",
        "\n",
        "Expected output:\n",
        "\n",
        "[\"Mike\", \"Emma\", \"Kelly\", \"Brad\"]"
      ]
    },
    {
      "cell_type": "code",
      "metadata": {
        "colab": {
          "base_uri": "https://localhost:8080/"
        },
        "id": "nMDHzJFOOMf6",
        "outputId": "287650ad-888c-4e13-c559-cc74641ed467"
      },
      "source": [
        "list1 = [\"Mike\",\"\",\"Emma\",\"Kelly\",\"\",\"Brad\"]\n",
        "ans = [i for i in list1 if i.split()]\n",
        "ans"
      ],
      "execution_count": 14,
      "outputs": [
        {
          "output_type": "execute_result",
          "data": {
            "text/plain": [
              "['Mike', 'Emma', 'Kelly', 'Brad']"
            ]
          },
          "metadata": {
            "tags": []
          },
          "execution_count": 14
        }
      ]
    },
    {
      "cell_type": "markdown",
      "metadata": {
        "id": "gILMrBWROMf6"
      },
      "source": [
        "# Exercise # 7 :\n",
        "Write a Python program to convert temperatures to and from celsius, fahrenheit. Go to the editor\n",
        "[ Formula : c/5 = f-32/9 [ where c = temperature in celsius and f = temperature in fahrenheit ]\n",
        "Expected Output :\n",
        "60°C is 140 in Fahrenheit\n",
        "45°F is 7 in Celsius\n"
      ]
    },
    {
      "cell_type": "code",
      "metadata": {
        "colab": {
          "base_uri": "https://localhost:8080/"
        },
        "id": "M0rGtHxgOMf6",
        "outputId": "6bf73c83-b66c-4492-8715-770bffc52c25"
      },
      "source": [
        "print(\"Conversion of Celsius Into Fahrenheit And Fahrenheit Into Celsius\")\n",
        "temp= (input(\"Enter Temp  with unit: \"))\n",
        "value=int(temp[:-1])\n",
        "unit=temp[-1].upper()\n",
        "if unit==\"C\":\n",
        "  f=(value//5)*9 +32\n",
        "  print(value,unit,\"is\",f,\"in Fahrenheit\")\n",
        "elif unit==\"F\":\n",
        "  c=((value-32)*5)//9\n",
        "  print(value,unit,\"is\",c,\"in Celsius\")"
      ],
      "execution_count": 15,
      "outputs": [
        {
          "output_type": "stream",
          "text": [
            "Conversion of Celsius Into Fahrenheit And Fahrenheit Into Celsius\n",
            "Enter Temp  with unit: 60C\n",
            "60 C is 140 in Fahrenheit\n"
          ],
          "name": "stdout"
        }
      ]
    },
    {
      "cell_type": "markdown",
      "metadata": {
        "id": "oPSUf7TGOMf6"
      },
      "source": [
        "# Exercise # 8\n",
        "Write a Python program to guess a number between 1 to 9.\n",
        "Note : User is prompted to enter a guess. If the user guesses wrong\n",
        "then the prompt appears again until the guess is correct, on successful guess,\n",
        "user will get a \"Well guessed!\" message, and the program will exit.\n"
      ]
    },
    {
      "cell_type": "code",
      "metadata": {
        "colab": {
          "base_uri": "https://localhost:8080/"
        },
        "id": "f3KWdZQxOMf6",
        "outputId": "81baeaef-6aab-4e98-ec58-5709139608b6"
      },
      "source": [
        "user=int(input(\"Enter Guess num B/T 1 to 9: \"))\n",
        "num=4\n",
        "while True:\n",
        "  if user==num:\n",
        "    print('\"Well guessed!\"')\n",
        "    break\n",
        "  user=int(input(\"Enter guess num B/T 1 to 9: \"))"
      ],
      "execution_count": 16,
      "outputs": [
        {
          "output_type": "stream",
          "text": [
            "Enter Guess num B/T 1 to 9: 2\n",
            "Enter guess num B/T 1 to 9: 7\n",
            "Enter guess num B/T 1 to 9: 9\n",
            "Enter guess num B/T 1 to 9: 4\n",
            "\"Well guessed!\"\n"
          ],
          "name": "stdout"
        }
      ]
    },
    {
      "cell_type": "markdown",
      "metadata": {
        "id": "kGR0c3L_OMf6"
      },
      "source": [
        "# Exercise # 9\n",
        "Write a Python program that prints all the numbers from 0 to 6 except 3 and 6."
      ]
    },
    {
      "cell_type": "code",
      "metadata": {
        "colab": {
          "base_uri": "https://localhost:8080/"
        },
        "id": "tYg4ZI5FOMf6",
        "outputId": "a281edc1-f803-47a0-99ed-2e10055c2090"
      },
      "source": [
        "for i in range(0,7):\n",
        "  if i==3 or i==6:\n",
        "    continue\n",
        "  print(i)\n"
      ],
      "execution_count": 17,
      "outputs": [
        {
          "output_type": "stream",
          "text": [
            "0\n",
            "1\n",
            "2\n",
            "4\n",
            "5\n"
          ],
          "name": "stdout"
        }
      ]
    },
    {
      "cell_type": "markdown",
      "metadata": {
        "id": "4vsRsJskOMf6"
      },
      "source": [
        "# Exercise # 10\n",
        "Write a Python program which iterates the integers from 1 to 50.\n",
        "For multiples of three print \"it is multiple of 3\" instead of the number \n",
        "and for the multiples of five print \"multiple of 5\". For numbers which are \n",
        "multiples of both three and five print \"multiple of both 3 and 5\"\n"
      ]
    },
    {
      "cell_type": "code",
      "metadata": {
        "colab": {
          "base_uri": "https://localhost:8080/"
        },
        "id": "u5WdkoXAf_pQ",
        "outputId": "1179475c-9905-4e6b-fd7e-a7ec88e60fa7"
      },
      "source": [
        "for num in range(1,51):\n",
        "  if (num % 3==0) and (num %5==0):\n",
        "    print(\"multiple of both 3 and 5\")\n",
        "    continue\n",
        "  if num % 5==0:\n",
        "    print(\"multiple of 5\")\n",
        "    continue\n",
        "  if num % 3==0:\n",
        "    print(\"it is multiple of 3\")\n",
        "    continue\n",
        "  else:\n",
        "    print(num)\n"
      ],
      "execution_count": 18,
      "outputs": [
        {
          "output_type": "stream",
          "text": [
            "1\n",
            "2\n",
            "it is multiple of 3\n",
            "4\n",
            "multiple of 5\n",
            "it is multiple of 3\n",
            "7\n",
            "8\n",
            "it is multiple of 3\n",
            "multiple of 5\n",
            "11\n",
            "it is multiple of 3\n",
            "13\n",
            "14\n",
            "multiple of both 3 and 5\n",
            "16\n",
            "17\n",
            "it is multiple of 3\n",
            "19\n",
            "multiple of 5\n",
            "it is multiple of 3\n",
            "22\n",
            "23\n",
            "it is multiple of 3\n",
            "multiple of 5\n",
            "26\n",
            "it is multiple of 3\n",
            "28\n",
            "29\n",
            "multiple of both 3 and 5\n",
            "31\n",
            "32\n",
            "it is multiple of 3\n",
            "34\n",
            "multiple of 5\n",
            "it is multiple of 3\n",
            "37\n",
            "38\n",
            "it is multiple of 3\n",
            "multiple of 5\n",
            "41\n",
            "it is multiple of 3\n",
            "43\n",
            "44\n",
            "multiple of both 3 and 5\n",
            "46\n",
            "47\n",
            "it is multiple of 3\n",
            "49\n",
            "multiple of 5\n"
          ],
          "name": "stdout"
        }
      ]
    },
    {
      "cell_type": "markdown",
      "metadata": {
        "id": "TzVo5rt-OMf6"
      },
      "source": [
        "# Exercise # 11\n",
        "Write a Python program to create the multiplication table (from 1 to 10) of a number."
      ]
    },
    {
      "cell_type": "code",
      "metadata": {
        "colab": {
          "base_uri": "https://localhost:8080/"
        },
        "id": "m5xFmR_AOMf6",
        "outputId": "b0d7b083-233b-48a2-a0c5-5c2f9741d469"
      },
      "source": [
        "num=int(input(\"Enter num to see its table\"))\n",
        "for i in range(1,11):\n",
        "  print(num,\"x\",i,\"=\",num*i)\n"
      ],
      "execution_count": 8,
      "outputs": [
        {
          "output_type": "stream",
          "text": [
            "Enter num to see its table5\n",
            "5 x 1 = 5\n",
            "5 x 2 = 10\n",
            "5 x 3 = 15\n",
            "5 x 4 = 20\n",
            "5 x 5 = 25\n",
            "5 x 6 = 30\n",
            "5 x 7 = 35\n",
            "5 x 8 = 40\n",
            "5 x 9 = 45\n",
            "5 x 10 = 50\n"
          ],
          "name": "stdout"
        }
      ]
    },
    {
      "cell_type": "markdown",
      "metadata": {
        "id": "5HQ5kG_8OMf6"
      },
      "source": [
        "# Exercise # 12\n",
        "Get all diagonal of matrix and sum of it :\n",
        "matrix = [[1,2,3,4], [2,3,4,5], [3,4,5,6], [4,5,6,7]]"
      ]
    },
    {
      "cell_type": "code",
      "metadata": {
        "id": "aSARbEcXOMf6"
      },
      "source": [
        "matrix = [[2,2,3,4], \n",
        "          [2,3,4,5], \n",
        "          [3,4,5,6], \n",
        "          [4,5,6,7]]\n",
        "# nhi samjh aa ing fly hoing\n"
      ],
      "execution_count": 9,
      "outputs": []
    }
  ]
}
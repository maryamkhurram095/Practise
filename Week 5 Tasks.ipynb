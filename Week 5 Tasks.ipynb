{
 "cells": [
  {
   "cell_type": "markdown",
   "metadata": {},
   "source": [
    "Write a python program and extract data from a dictionary according to given output.\n",
    "people = {1:{\"shadu\":\"nagin\", \"gender\":\"Male\"}\n",
    "          2:{\"Arqam\":\"naag\",\"gender\":\"Male\" }}\n",
    "\n",
    "output: naag\n",
    "        Male"
   ]
  },
  {
   "cell_type": "code",
   "execution_count": 47,
   "metadata": {},
   "outputs": [
    {
     "name": "stdout",
     "output_type": "stream",
     "text": [
      "naag Male "
     ]
    }
   ],
   "source": [
    "people = {1:{\"shadu\":\"nagin\", \"gender\":\"Male\"},2:{\"Arqam\":\"naag\",\"gender\":\"Male\" }}\n",
    "a=people[2][\"Arqam\"]\n",
    "b=people[2][\"gender\"]\n",
    "print(a,b,end=\" \")\n"
   ]
  },
  {
   "cell_type": "markdown",
   "metadata": {},
   "source": [
    "How to itrate on above dictionary and get expected output.\n",
    "\n",
    "output: people_1 id:\n",
    "        shadu : nagin\n",
    "        gender: Male\n",
    "        \n",
    "        people_2 id:\n",
    "        Arqam : naag\n",
    "        gender: Male\n",
    "        "
   ]
  },
  {
   "cell_type": "code",
   "execution_count": 46,
   "metadata": {},
   "outputs": [
    {
     "name": "stdout",
     "output_type": "stream",
     "text": [
      "Person: 1\n",
      "shadu : nagin\n",
      "gender : Male\n",
      "Person: 2\n",
      "Arqam : naag\n",
      "gender : Male\n"
     ]
    }
   ],
   "source": [
    "people = {1:{\"shadu\":\"nagin\", \"gender\":\"Male\"},2:{\"Arqam\":\"naag\",\"gender\":\"Male\" }}\n",
    "for a,b in people.items():\n",
    "    print(\"Person:\",a)\n",
    "    for key, value in b.items():\n",
    "        print(key,value,sep=\" : \")\n"
   ]
  },
  {
   "cell_type": "markdown",
   "metadata": {},
   "source": [
    "Write a secret word in your program and user guesses a word. if it is, the game finishes. if it is not equal, ask the user to play again and count the number of times that user made guess."
   ]
  },
  {
   "cell_type": "code",
   "execution_count": 6,
   "metadata": {},
   "outputs": [
    {
     "name": "stdout",
     "output_type": "stream",
     "text": [
      "Enter guess word: view\n",
      "Play Again :(\n",
      "Enter guess word: world\n",
      "Play Again :(\n",
      "Enter guess word: hello\n",
      "U Won!!\n",
      "U try: 2 times :)\n"
     ]
    }
   ],
   "source": [
    "guess=\"hello\"\n",
    "user_guess=input(\"Enter guess word: \")\n",
    "user_guess=user_guess.lower()\n",
    "b=0\n",
    "while True:\n",
    "    if user_guess==guess:\n",
    "        print(\"U Won!!\")\n",
    "        break\n",
    "    else:\n",
    "        print(\"Play Again :(\")\n",
    "        b+=1\n",
    "        user_guess=input(\"Enter guess word: \")\n",
    "        user_guess=user_guess.lower()\n",
    "print(\"U try:\",b,\"times :)\")"
   ]
  },
  {
   "cell_type": "markdown",
   "metadata": {},
   "source": [
    "write a program that takes input from user in the form of text and count the space."
   ]
  },
  {
   "cell_type": "code",
   "execution_count": 4,
   "metadata": {},
   "outputs": [
    {
     "name": "stdout",
     "output_type": "stream",
     "text": [
      "Enter a text: Be happy n stay positive\n",
      "4\n"
     ]
    }
   ],
   "source": [
    "count=input(\"Enter a text: \")\n",
    "a=0\n",
    "for i in count:\n",
    "    if i==\" \":\n",
    "        a+=1\n",
    "print(a)"
   ]
  },
  {
   "cell_type": "markdown",
   "metadata": {},
   "source": [
    "Write a python program that print the sum of first 5 integer number."
   ]
  },
  {
   "cell_type": "code",
   "execution_count": 5,
   "metadata": {},
   "outputs": [
    {
     "name": "stdout",
     "output_type": "stream",
     "text": [
      "Sum of first 5 integer number: 15\n"
     ]
    }
   ],
   "source": [
    "num=list(range(1,6))\n",
    "print(\"Sum of first 5 integer number:\",sum(num))"
   ]
  }
 ],
 "metadata": {
  "kernelspec": {
   "display_name": "Python 3",
   "language": "python",
   "name": "python3"
  },
  "language_info": {
   "codemirror_mode": {
    "name": "ipython",
    "version": 3
   },
   "file_extension": ".py",
   "mimetype": "text/x-python",
   "name": "python",
   "nbconvert_exporter": "python",
   "pygments_lexer": "ipython3",
   "version": "3.8.5"
  }
 },
 "nbformat": 4,
 "nbformat_minor": 2
}

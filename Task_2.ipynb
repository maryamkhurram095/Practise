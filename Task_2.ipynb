{
  "nbformat": 4,
  "nbformat_minor": 0,
  "metadata": {
    "colab": {
      "name": "Task 2",
      "provenance": []
    },
    "kernelspec": {
      "name": "python3",
      "display_name": "Python 3"
    }
  },
  "cells": [
    {
      "cell_type": "markdown",
      "metadata": {
        "id": "8FjDPFbhFyKh"
      },
      "source": [
        "Q1) Write a Python program to sum all the items in a list"
      ]
    },
    {
      "cell_type": "code",
      "metadata": {
        "colab": {
          "base_uri": "https://localhost:8080/"
        },
        "id": "vmFwY5TcFuDL",
        "outputId": "790680be-4fd9-45f6-87a3-9512fde4719b"
      },
      "source": [
        "add= [12,2,34,6]\n",
        "print(\"Sum of all num:\",sum(add))"
      ],
      "execution_count": 11,
      "outputs": [
        {
          "output_type": "stream",
          "text": [
            "Sum of all num: 54\n"
          ],
          "name": "stdout"
        }
      ]
    },
    {
      "cell_type": "markdown",
      "metadata": {
        "id": "aA83H0qIF-LV"
      },
      "source": [
        "\n",
        "Q2) Write a Python program to multiplies all the items in a list"
      ]
    },
    {
      "cell_type": "code",
      "metadata": {
        "colab": {
          "base_uri": "https://localhost:8080/"
        },
        "id": "Nl58ctaIqIdK",
        "outputId": "734fdf50-4677-4067-d92b-82d78538d89c"
      },
      "source": [
        "mul = [2,5,8,5,10]\n",
        "def multiply(numbers):  \n",
        "    total = 1\n",
        "    for x in numbers:\n",
        "        total *= x  \n",
        "    return total  \n",
        "print(\"Product of all num :\",multiply(mul))\n"
      ],
      "execution_count": 4,
      "outputs": [
        {
          "output_type": "stream",
          "text": [
            "Product of all num : 4000\n"
          ],
          "name": "stdout"
        }
      ]
    },
    {
      "cell_type": "markdown",
      "metadata": {
        "id": "WfpwVI0FGKKp"
      },
      "source": [
        "Q3) Write a Python program to copy a list."
      ]
    },
    {
      "cell_type": "code",
      "metadata": {
        "colab": {
          "base_uri": "https://localhost:8080/"
        },
        "id": "_eIiwQiPsa0O",
        "outputId": "4f38ed34-8539-4911-b483-4738184d7c9b"
      },
      "source": [
        "old=[9,6,4,8]\n",
        "new=old.copy()\n",
        "print(\"old:\",old)\n",
        "print(\"new:\",new)"
      ],
      "execution_count": 5,
      "outputs": [
        {
          "output_type": "stream",
          "text": [
            "old: [9, 6, 4, 8]\n",
            "new: [9, 6, 4, 8]\n"
          ],
          "name": "stdout"
        }
      ]
    },
    {
      "cell_type": "markdown",
      "metadata": {
        "id": "OVYqDxYcGTjy"
      },
      "source": [
        "Q4) Write a Python program to remove 1st 3rd and 5th element from a list and \n",
        "return the list"
      ]
    },
    {
      "cell_type": "code",
      "metadata": {
        "colab": {
          "base_uri": "https://localhost:8080/"
        },
        "id": "-hjwBPK5tl_A",
        "outputId": "f3f28f72-6c07-4b18-8ece-c26888d17478"
      },
      "source": [
        "task=[9,67,45,20,18,50,37,32,11]\n",
        "print(\"This value is remove :\",task.pop(1),task.pop(3),task.pop(5))\n",
        "print(task)"
      ],
      "execution_count": 6,
      "outputs": [
        {
          "output_type": "stream",
          "text": [
            "This value is remove : 67 18 32\n",
            "[9, 45, 20, 50, 37, 11]\n"
          ],
          "name": "stdout"
        }
      ]
    },
    {
      "cell_type": "markdown",
      "metadata": {
        "id": "SyoSkuDBGnFy"
      },
      "source": [
        "Q5) Write a python program to take index from user and remove that element from list"
      ]
    },
    {
      "cell_type": "code",
      "metadata": {
        "colab": {
          "base_uri": "https://localhost:8080/"
        },
        "id": "4Mu0IZAbt_o3",
        "outputId": "c3916e01-ad36-4aa9-fded-d94bad1f3a57"
      },
      "source": [
        "sol=[270,350,567,78,45,67]\n",
        "index=int(input(\"Enter index to Remove:\"))\n",
        "sol.pop(index)\n",
        "sol"
      ],
      "execution_count": 7,
      "outputs": [
        {
          "output_type": "stream",
          "text": [
            "Enter index to Remove:3\n"
          ],
          "name": "stdout"
        },
        {
          "output_type": "execute_result",
          "data": {
            "text/plain": [
              "[270, 350, 567, 45, 67]"
            ]
          },
          "metadata": {
            "tags": []
          },
          "execution_count": 7
        }
      ]
    },
    {
      "cell_type": "markdown",
      "metadata": {
        "id": "cPjfibIeGycp"
      },
      "source": [
        "Q6) Given a Python list. Turn every item of a list into its square"
      ]
    },
    {
      "cell_type": "code",
      "metadata": {
        "colab": {
          "base_uri": "https://localhost:8080/"
        },
        "id": "g84OSVzo0SGd",
        "outputId": "0d7d0b0a-1ed0-4b73-a798-6e593f6d0bdc"
      },
      "source": [
        "square=[4,6,8,2]\n",
        "for i in range(len(square)):\n",
        "    square[i]*=square[i]\n",
        "square"
      ],
      "execution_count": 8,
      "outputs": [
        {
          "output_type": "execute_result",
          "data": {
            "text/plain": [
              "[16, 36, 64, 4]"
            ]
          },
          "metadata": {
            "tags": []
          },
          "execution_count": 8
        }
      ]
    },
    {
      "cell_type": "markdown",
      "metadata": {
        "id": "1L5KmUk3HQf9"
      },
      "source": [
        "Q7) Given a Python list, find value 20 in the list, and if it is present, \n",
        "replace it with 200"
      ]
    },
    {
      "cell_type": "code",
      "metadata": {
        "colab": {
          "base_uri": "https://localhost:8080/"
        },
        "id": "9_p6oHOQBD9N",
        "outputId": "019088db-f536-4b18-d252-f8e4c7ce7385"
      },
      "source": [
        "list1 = [5, 10, 15, 20, 25, 50, 20]\n",
        "for i in range (len(list1)):\n",
        "    if list1[i]==20:\n",
        "        list1[i]=200\n",
        "list1"
      ],
      "execution_count": 9,
      "outputs": [
        {
          "output_type": "execute_result",
          "data": {
            "text/plain": [
              "[5, 10, 15, 200, 25, 50, 200]"
            ]
          },
          "metadata": {
            "tags": []
          },
          "execution_count": 9
        }
      ]
    },
    {
      "cell_type": "markdown",
      "metadata": {
        "id": "JXssMweqHWqC"
      },
      "source": [
        "Q8) Given a Python list you should be able to display Python list in the following order\n",
        "\n",
        "List1 = ['e', 'a', 'u', 'o', 'i']\n",
        "expected output = ['a', 'e', 'i', 'o', 'u']"
      ]
    },
    {
      "cell_type": "code",
      "metadata": {
        "colab": {
          "base_uri": "https://localhost:8080/"
        },
        "id": "stVvSyUq6-Rx",
        "outputId": "f8e23734-3ec7-4658-dc95-6189d9673c55"
      },
      "source": [
        "List1 = ['e', 'a', 'u', 'o', 'i']\n",
        "List1.sort()\n",
        "print(List1)"
      ],
      "execution_count": 10,
      "outputs": [
        {
          "output_type": "stream",
          "text": [
            "['a', 'e', 'i', 'o', 'u']\n"
          ],
          "name": "stdout"
        }
      ]
    }
  ]
}
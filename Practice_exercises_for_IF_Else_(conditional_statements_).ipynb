{
  "nbformat": 4,
  "nbformat_minor": 0,
  "metadata": {
    "kernelspec": {
      "display_name": "Python 3",
      "language": "python",
      "name": "python3"
    },
    "language_info": {
      "codemirror_mode": {
        "name": "ipython",
        "version": 3
      },
      "file_extension": ".py",
      "mimetype": "text/x-python",
      "name": "python",
      "nbconvert_exporter": "python",
      "pygments_lexer": "ipython3",
      "version": "3.7.6"
    },
    "colab": {
      "name": "Practice exercises for IF Else (conditional statements ).ipynb",
      "provenance": [],
      "collapsed_sections": []
    }
  },
  "cells": [
    {
      "cell_type": "markdown",
      "metadata": {
        "id": "tP4CshX9mVTS"
      },
      "source": [
        "# Exercise # 1 :\n",
        "Take two int values from user and print greatest among them."
      ]
    },
    {
      "cell_type": "code",
      "metadata": {
        "colab": {
          "base_uri": "https://localhost:8080/"
        },
        "id": "wGeZGLaimVTS",
        "outputId": "1d5865c7-63b0-42c1-e124-fb5e5775366b"
      },
      "source": [
        "val_1 = int(input(\"enter a value: \"))\n",
        "val_2 = int(input(\"enter a value:\"))\n",
        "if val_1> val_2:\n",
        "  print(val_1,\"is greater\")\n",
        "else:\n",
        "  print(val_2, \"is greater\")\n"
      ],
      "execution_count": 13,
      "outputs": [
        {
          "output_type": "stream",
          "text": [
            "enter a value: 30\n",
            "enter a value:70\n",
            "70 is greater\n"
          ],
          "name": "stdout"
        }
      ]
    },
    {
      "cell_type": "markdown",
      "metadata": {
        "id": "7rFhY5llmVTS"
      },
      "source": [
        "# Exercise # 2:\n",
        "Take input of age of 3 people by user and determine oldest and youngest among them."
      ]
    },
    {
      "cell_type": "code",
      "metadata": {
        "colab": {
          "base_uri": "https://localhost:8080/"
        },
        "id": "gwLLe6YimVTS",
        "outputId": "b14df0dd-5d37-4027-9115-031b6b6f0d9d"
      },
      "source": [
        "age_1 = int(input(\"Enter a first age: \"))\n",
        "age_2 = int(input(\"Enter a second age: \"))\n",
        "age_3 = int(input(\"enter a third age: \"))\n",
        "\n",
        "if age_1 >= age_2 and age_1 >= age_3:\n",
        "  print (age_1,\"is Oldest\")\n",
        "elif age_2 >= age_1 and age_2 >= age_3:\n",
        "  print (age_2,\"is Oldest\")\n",
        "elif age_3 >= age_1 and age_3 >= age_2:\n",
        "  print (age_3,\"is Oldest\")\n",
        "else:\n",
        "  print (\"Same\")\n",
        "\n",
        "if age_1 <= age_2 and age_1 <= age_3:\n",
        "  print (age_1,\"is youngest\")\n",
        "elif age_2 <= age_1 and age_2 <= age_3:\n",
        "  print (age_2,\"is youngest\")\n",
        "elif age_3 <= age_1 and age_3 <= age_2:\n",
        "  print (age_3,\"is youngest\")\n",
        "else:\n",
        "  print (\"Same\")"
      ],
      "execution_count": 14,
      "outputs": [
        {
          "output_type": "stream",
          "text": [
            "Enter a first age: 2\n",
            "Enter a second age: 5\n",
            "enter a third age: 9\n",
            "9 is Oldest\n",
            "2 is youngest\n"
          ],
          "name": "stdout"
        }
      ]
    },
    {
      "cell_type": "markdown",
      "metadata": {
        "id": "gWmFb0namVTS"
      },
      "source": [
        "# Exercise # 3:\n",
        "\n",
        "Take values of length and breadth of a rectangle from user and check if it is square or not."
      ]
    },
    {
      "cell_type": "code",
      "metadata": {
        "colab": {
          "base_uri": "https://localhost:8080/"
        },
        "id": "MEpP9weimVTS",
        "outputId": "02b1f265-c845-43dd-8d30-e5e4b5e06499"
      },
      "source": [
        "length = int(input(\"Enter a Length: \"))\n",
        "breadth = int(input(\"Enter a Breadth: \"))\n",
        "if length == breadth:\n",
        "  print(\"Its square\")\n",
        "else:\n",
        "  print(\"Its a reactangle\")"
      ],
      "execution_count": 15,
      "outputs": [
        {
          "output_type": "stream",
          "text": [
            "Enter a Length: 40\n",
            "Enter a Breadth: 40\n",
            "Its square\n"
          ],
          "name": "stdout"
        }
      ]
    },
    {
      "cell_type": "markdown",
      "metadata": {
        "id": "u7ZPYV3BmVTS"
      },
      "source": [
        "# Exercise # 4:\n",
        "A shop will give discount of 10% if the cost of purchased quantity is more than 1000.\n",
        "Ask user for quantity\n",
        "Suppose, one unit will cost 100.\n",
        "Judge and print total cost for user.\n"
      ]
    },
    {
      "cell_type": "code",
      "metadata": {
        "colab": {
          "base_uri": "https://localhost:8080/"
        },
        "id": "kd35YevfmVTS",
        "outputId": "edcab121-6b7c-4b4d-9e73-f85e347010e8"
      },
      "source": [
        "quantity = int(input(\"Enter a Quantity: \"))\n",
        "unit=100\n",
        "cost=quantity*unit\n",
        "if cost>1000:\n",
        "  sum=cost*0.1\n",
        "  print(\"Price: \",cost-sum)\n",
        "else:\n",
        "  print(\"Price: \",cost)"
      ],
      "execution_count": 11,
      "outputs": [
        {
          "output_type": "stream",
          "text": [
            "Enter a Quantity: 40\n",
            "Price:  3600.0\n"
          ],
          "name": "stdout"
        }
      ]
    },
    {
      "cell_type": "markdown",
      "metadata": {
        "id": "j_kU0tu2mVTT"
      },
      "source": [
        "# Exercise # 5:\n",
        "A company decided to give bonus of 5% to employee if his/her year of service is more than 5 years.\n",
        "Ask user for their salary and year of service and print the net bonus amount.\n",
        "\n"
      ]
    },
    {
      "cell_type": "code",
      "metadata": {
        "colab": {
          "base_uri": "https://localhost:8080/"
        },
        "id": "H2oBNwiMmVTT",
        "outputId": "d779ded0-c4b8-4d90-97cb-8b7414a389c4"
      },
      "source": [
        "salary= int(input(\"Enter your Salary: \"))\n",
        "service = int(input(\"Enter  your service: \"))\n",
        "if service>5:\n",
        "  bonus= salary*0.05\n",
        "  print(\"Net Bonus:\",bonus+salary)\n",
        "else:\n",
        "  print(salary)"
      ],
      "execution_count": 12,
      "outputs": [
        {
          "output_type": "stream",
          "text": [
            "Enter your Salary: 1000\n",
            "Enter  your service: 6\n",
            "Net Bonus: 1050.0\n"
          ],
          "name": "stdout"
        }
      ]
    },
    {
      "cell_type": "markdown",
      "metadata": {
        "id": "62Vu8VIKmVTT"
      },
      "source": [
        "# Exercise # 6:\n",
        "A school has following rules for grading system:\n",
        "\n",
        "a. Below 25 - F\n",
        "\n",
        "b. 25 to 45 - E\n",
        "\n",
        "c. 45 to 50 - D\n",
        "\n",
        "d. 50 to 60 - C\n",
        "\n",
        "e. 60 to 80 - B\n",
        "\n",
        "f. Above 80 - A\n",
        "\n",
        "Ask user to enter marks and print the corresponding grade."
      ]
    },
    {
      "cell_type": "code",
      "metadata": {
        "colab": {
          "base_uri": "https://localhost:8080/"
        },
        "id": "ap56xXOemVTT",
        "outputId": "17c92ad8-e2bc-48b9-bc9e-0269e5502aa4"
      },
      "source": [
        "marks = int(input(\"Enter Marks: \"))\n",
        "\n",
        "if marks >80:\n",
        "  print(\"A\")\n",
        "elif marks>=60 and marks<=80:\n",
        "  print (\"B\")\n",
        "elif marks>=50 and marks<=60:\n",
        "  print (\"C\")\n",
        "elif marks>=45 and marks<=50:\n",
        "  print(\"D\")\n",
        "elif marks>=25 and marks<=45:\n",
        "  print (\"E\")\n",
        "else:\n",
        "  print(\"F\")"
      ],
      "execution_count": 16,
      "outputs": [
        {
          "output_type": "stream",
          "text": [
            "Enter Marks: 20\n",
            "F\n"
          ],
          "name": "stdout"
        }
      ]
    },
    {
      "cell_type": "markdown",
      "metadata": {
        "id": "b_vKsnu2mVTT"
      },
      "source": [
        "# Exercise # 7:\n",
        "Write a program to print absolute vlaue of a number entered by user.\n",
        "\n",
        "E.g.-\n",
        "\n",
        "INPUT: 1    =>>>>    OUTPUT: 1\n",
        "\n",
        "INPUT: -1   =>>>>     OUTPUT: 1\n"
      ]
    },
    {
      "cell_type": "code",
      "metadata": {
        "colab": {
          "base_uri": "https://localhost:8080/"
        },
        "id": "LEMnuwjkmVTT",
        "outputId": "23b2d8a8-d7c0-4829-c548-efe03dd3dc85"
      },
      "source": [
        "num = int(input(\"Enter Number: \"))\n",
        "if num<0:\n",
        "  print(num*-1)\n",
        "else:\n",
        "  print(num)"
      ],
      "execution_count": 17,
      "outputs": [
        {
          "output_type": "stream",
          "text": [
            "Enter Number: -6\n",
            "6\n"
          ],
          "name": "stdout"
        }
      ]
    },
    {
      "cell_type": "markdown",
      "metadata": {
        "id": "MZCVTJ5ImVTT"
      },
      "source": [
        "# Exercise # 8:\n",
        "A student will not be allowed to sit in exam if his/her attendence is less than 75%.\n",
        "Take following input from user\n",
        "Number of classes held\n",
        "Number of classes attended.\n",
        "And print\n",
        "percentage of class attended\n",
        "Is student is allowed to sit in exam or not."
      ]
    },
    {
      "cell_type": "code",
      "metadata": {
        "colab": {
          "base_uri": "https://localhost:8080/"
        },
        "id": "H-CueTF0mVTT",
        "outputId": "6841adea-e196-4e84-806c-57f95e49b2bd"
      },
      "source": [
        "held = int(input(\"Total Classes held: \"))\n",
        "attend = int(input(\"Classes attended: \"))\n",
        "percentage = attend*100 / held\n",
        "if percentage < 75:\n",
        "  print(\"U r not allowed to sit in exam\")\n",
        "else:\n",
        "  print(\"U r allowed\")\n"
      ],
      "execution_count": 19,
      "outputs": [
        {
          "output_type": "stream",
          "text": [
            "Total Classes held: 100\n",
            "Classes attended: 76\n",
            "U r allowed\n"
          ],
          "name": "stdout"
        }
      ]
    },
    {
      "cell_type": "markdown",
      "metadata": {
        "id": "5wJtSpD_mVTT"
      },
      "source": [
        "# Exercise # 9:\n",
        "Modify the above question to allow student to sit if he/she has medical cause. Ask user if he/she has medical cause or not ( 'Y' or 'N' ) and print accordingly."
      ]
    },
    {
      "cell_type": "code",
      "metadata": {
        "colab": {
          "base_uri": "https://localhost:8080/"
        },
        "id": "XsHcAVKgmVTT",
        "outputId": "03247d41-217a-4acf-94ea-bb0cbf1cee8f"
      },
      "source": [
        "held = int (input(\"Total Classes held: \"))\n",
        "attend = int(input(\"Classes attended: \"))\n",
        "percentage = attend*100 / held\n",
        "if percentage < 75:\n",
        "   cause = input(\"Has any medical cause for less attendence: \")\n",
        "   if cause == 'Y' or 'y':\n",
        "     print(\"U r allowed\")\n",
        "   else:\n",
        "     print(\"U r not allowed to sit in exam\")\n",
        "else:\n",
        "  print(\"U r allowed\")\n"
      ],
      "execution_count": 20,
      "outputs": [
        {
          "output_type": "stream",
          "text": [
            "Total Classes held: 10\n",
            "Classes attended: 3\n",
            "Has any medical cause for less attendence: y\n",
            "U r allowed\n"
          ],
          "name": "stdout"
        }
      ]
    }
  ]
}